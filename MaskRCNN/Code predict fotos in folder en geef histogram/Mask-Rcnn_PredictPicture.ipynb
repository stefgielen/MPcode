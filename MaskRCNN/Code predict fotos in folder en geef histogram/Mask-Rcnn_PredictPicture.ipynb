{
 "cells": [
  {
   "cell_type": "code",
   "execution_count": 1,
   "id": "1c0bb183",
   "metadata": {},
   "outputs": [
    {
     "name": "stderr",
     "output_type": "stream",
     "text": [
      "Using TensorFlow backend.\n"
     ]
    }
   ],
   "source": [
    "from os import listdir\n",
    "from xml.etree import ElementTree\n",
    "import random\n",
    "from numpy import zeros\n",
    "from numpy import asarray\n",
    "from numpy import expand_dims\n",
    "from matplotlib import pyplot as plt \n",
    "from matplotlib import image\n",
    "from skimage.transform import resize\n",
    "from matplotlib.patches import Rectangle\n",
    "from mrcnn.config import Config\n",
    "from mrcnn.model import MaskRCNN\n",
    "from mrcnn.model import mold_image\n",
    "from mrcnn.utils import Dataset\n",
    "from mrcnn import visualize\n",
    "import os\n",
    "import pandas as pd\n",
    "import numpy as np\n",
    "import cv2\n",
    "from shapely.geometry import Polygon"
   ]
  },
  {
   "cell_type": "code",
   "execution_count": 2,
   "id": "04e2cac4",
   "metadata": {},
   "outputs": [],
   "source": [
    "# define the prediction configuration\n",
    "class PredictionConfig(Config):\n",
    "    # define the name of the configuration\n",
    "    NAME = \"pictureframe_cfg\"\n",
    "    # number of classes (background + kangaroo)\n",
    "    NUM_CLASSES = 1 + 1\n",
    "    # simplify GPU config\n",
    "    GPU_COUNT = 1\n",
    "    IMAGES_PER_GPU = 1"
   ]
  },
  {
   "cell_type": "code",
   "execution_count": 3,
   "id": "a2978620",
   "metadata": {},
   "outputs": [],
   "source": [
    "def get_ax(rows=1, cols=1, size=16):\n",
    "    \"\"\"Return a Matplotlib Axes array to be used in\n",
    "    all visualizations in the notebook. Provide a\n",
    "    central point to control graph sizes.\n",
    "    \n",
    "    Adjust the size attribute to control how big to render images\n",
    "    \"\"\"\n",
    "    _, ax = plt.subplots(rows, cols, figsize=(size*cols, size*rows))\n",
    "    return ax"
   ]
  },
  {
   "cell_type": "code",
   "execution_count": null,
   "id": "bb9641bb",
   "metadata": {},
   "outputs": [
    {
     "name": "stdout",
     "output_type": "stream",
     "text": [
      "WARNING:tensorflow:From /Users/stefgielen/.local/lib/python3.7/site-packages/keras/backend/tensorflow_backend.py:517: The name tf.placeholder is deprecated. Please use tf.compat.v1.placeholder instead.\n",
      "\n",
      "WARNING:tensorflow:From /Users/stefgielen/.local/lib/python3.7/site-packages/keras/backend/tensorflow_backend.py:74: The name tf.get_default_graph is deprecated. Please use tf.compat.v1.get_default_graph instead.\n",
      "\n",
      "WARNING:tensorflow:From /Users/stefgielen/.local/lib/python3.7/site-packages/keras/backend/tensorflow_backend.py:4138: The name tf.random_uniform is deprecated. Please use tf.random.uniform instead.\n",
      "\n",
      "WARNING:tensorflow:From /Users/stefgielen/.local/lib/python3.7/site-packages/keras/backend/tensorflow_backend.py:1919: The name tf.nn.fused_batch_norm is deprecated. Please use tf.compat.v1.nn.fused_batch_norm instead.\n",
      "\n",
      "WARNING:tensorflow:From /Users/stefgielen/.local/lib/python3.7/site-packages/keras/backend/tensorflow_backend.py:3976: The name tf.nn.max_pool is deprecated. Please use tf.nn.max_pool2d instead.\n",
      "\n"
     ]
    }
   ],
   "source": [
    "# create config\n",
    "cfg = PredictionConfig()\n",
    "\n",
    "# define the model\n",
    "model = MaskRCNN(mode='inference', model_dir='./', config=cfg)\n",
    "\n",
    "# load model weights\n",
    "model.load_weights('mask_rcnn_pictureframe_cfg_0001.h5', by_name=True)\n",
    "# evaluate model on training dataset"
   ]
  },
  {
   "cell_type": "code",
   "execution_count": null,
   "id": "63fe15be",
   "metadata": {},
   "outputs": [],
   "source": [
    "def predict(img):\n",
    "    \n",
    "    scaled_image = mold_image(img, cfg)\n",
    "    # convert image into one sample\n",
    "    sample = expand_dims(scaled_image, 0)\n",
    "    yhat = model.detect(sample, verbose=0)[0]\n",
    "    #print(yhat)\n",
    "    ax = plt.gca()\n",
    "    box = yhat['rois'][0]\n",
    "    conf = yhat['scores'][0]\n",
    "    # get coordinates\n",
    "    y1, x1, y2, x2 = box\n",
    "     \n",
    "    return x1 , y1, x2, y2, conf"
   ]
  },
  {
   "cell_type": "markdown",
   "id": "da596692",
   "metadata": {
    "scrolled": false
   },
   "source": [
    "img = image.imread('/Users/stefgielen/Documents/school 2021-2022/thesis/Python_Workspace/CustCNN/Testfotos/kader.jpg')\n",
    "\n",
    "scaled_image = mold_image(img, cfg)\n",
    "# convert image into one sample\n",
    "sample = expand_dims(scaled_image, 0)\n",
    "\n",
    "yhat = model.detect(sample, verbose=0)[0]\n",
    "#print(yhat)\n",
    "\n",
    "plt.imshow(img)\n",
    "\n",
    "ax = plt.gca()\n",
    "i=0\n",
    "for score in yhat['scores']:\n",
    "    print(score)\n",
    "    if (score>0):\n",
    "        box = yhat['rois'][i]\n",
    "        # get coordinates\n",
    "        y1, x1, y2, x2 = box\n",
    "        # calculate width and height of the box\n",
    "        width, height = x2 - x1, y2 - y1\n",
    "        # create the shape\n",
    "        rect = Rectangle((x1, y1), width, height, fill=False, color='red', lw=6)\n",
    "        # draw the box\n",
    "        ax.add_patch(rect)\n",
    "        #ax.annotate(str(score), (x1, y1-5),fontsize=20,color='red')\n",
    "        ax.text(x1+3, y1-5, (('Pictureframe: ')+ (str(score*100)[:2]) +'%'), style='normal',\n",
    "        bbox={'facecolor': 'red', 'pad': 10})\n",
    "    i+=1\n",
    "plt.rcParams[\"figure.figsize\"] = (20,20)\n",
    "plt.show()\n",
    "ax=get_ax(1)\n",
    "#ding=(yhat['class_ids'])\n",
    "visualize.display_instances(img, yhat['rois'], yhat['masks'], yhat['class_names'], \n",
    "                            yhat['scores'], ax=ax, title=\"Predictions\")"
   ]
  },
  {
   "cell_type": "code",
   "execution_count": null,
   "id": "5ae6649c",
   "metadata": {},
   "outputs": [],
   "source": [
    "BASE_PATH = '/Users/stefgielen/Documents/school 2021-2022/thesis/Python_Workspace/CustCNN'\n",
    "DATA_PATH = os.path.sep.join([BASE_PATH, \"Trimmeddata_bigger_test\"])\n",
    "VAL_IMAGES_PATH = os.path.sep.join([DATA_PATH, \"test/images\"])\n",
    "\n",
    "VAL_IMAGES_PATH ='/Users/stefgielen/Documents/school 2021-2022/thesis/Python_Workspace/CustCNN/Trimmeddata_bigger_test/typevoorbeelden'\n",
    "\n",
    "print(VAL_IMAGES_PATH)\n",
    "VAL_ANNOTS_PATH = os.path.sep.join([DATA_PATH, \"test/_annotations.csv\"])\n",
    "print(VAL_ANNOTS_PATH)"
   ]
  },
  {
   "cell_type": "code",
   "execution_count": null,
   "id": "4bd6b43e",
   "metadata": {},
   "outputs": [],
   "source": [
    "#annotaties inladen\n",
    "\n",
    "df=pd.read_csv(VAL_ANNOTS_PATH)\n",
    "df = df.drop('class', axis=1)\n",
    "df = df.drop('width', axis=1)\n",
    "df = df.drop('height', axis=1)\n",
    "df.head(5)"
   ]
  },
  {
   "cell_type": "code",
   "execution_count": null,
   "id": "988f26db",
   "metadata": {},
   "outputs": [],
   "source": [
    "def calculate_iou(box_1, box_2):\n",
    "    poly_1 = Polygon(box_1)\n",
    "    poly_2 = Polygon(box_2)\n",
    "    iou = poly_1.intersection(poly_2).area / poly_1.union(poly_2).area\n",
    "    return iou\n"
   ]
  },
  {
   "cell_type": "code",
   "execution_count": null,
   "id": "ccc1d3cc",
   "metadata": {
    "scrolled": false
   },
   "outputs": [],
   "source": [
    "import time\n",
    "from tensorflow.keras.preprocessing.image import load_img\n",
    "tijden=0\n",
    "i=0\n",
    "ious = []\n",
    "PRED_PATH = '/Users/stefgielen/Documents/school 2021-2022/thesis/Python_Workspace/Resultaten/MaskRCNN/typeset/annotations'\n",
    "for filename in os.listdir(VAL_IMAGES_PATH):\n",
    "    i += 1\n",
    "    #print(filename)\n",
    "    #print(os.path.splitext(filename)[0])\n",
    "    #print(\"foto nr: \",i,\"\\n\", filename)\n",
    "    image_path =  os.path.sep.join([VAL_IMAGES_PATH,filename])\n",
    "    #print(downloaded_image_path)\n",
    "    if filename != '.DS_Store' and filename != 'd5b7a75fa40665c1_jpg.rf.f2341a5242426e1d325adf81bc2ab39f.jpg' and filename!='1c18953e11ebb4e3_jpg.rf.3c8dda944df26f79b673aed3da36ac2c.jpg':\n",
    "        if filename == 'c9fcdc17b0fe09e3_jpg.rf.18b51d9004fec87a8a599bfb26e1f83e.jpg':\n",
    "            print(\"foto nr: \",i)\n",
    "            print(filename)\n",
    "            img = cv2.imread(image_path)        \n",
    "            originalIm = load_img(image_path)\n",
    "\n",
    "\n",
    "            begin = time.time()\n",
    "            (xmin, ymin, xmax, ymax,conf) = predict(img)\n",
    "            print(xmin, ymin, xmax, ymax)\n",
    "            end = time.time()\n",
    "            #print(end-begin)\n",
    "            tijden += (end - begin)\n",
    "\n",
    "            #prediction omzetten naar correcte grootte\n",
    "\n",
    "            \"\"\"w, h = originalIm.size\n",
    "            xmin = int(xmin * w)\n",
    "            ymin = int(ymin * h)\n",
    "            xmax = int(xmax * w)\n",
    "            ymax = int(ymax * h)\"\"\"\n",
    "\n",
    "\n",
    "            image = cv2.imread(image_path)\n",
    "            #bounding box tekenen op foto \n",
    "            #TODO aanpassen voor meerdere per foto\n",
    "            cv2.rectangle(image, (xmin, ymin), (xmax, ymax),(0, 255, 0), 2)\n",
    "\n",
    "            row = df.loc[df['filename'] == filename]\n",
    "            row = row.to_numpy()\n",
    "            if row.size != 0:\n",
    "                startX = (row[0][1])\n",
    "                startY = (row[0][2])\n",
    "                endX= (row[0][3])\n",
    "                endY= (row[0][4])\n",
    "\n",
    "\n",
    "            box_1 = [[xmin, ymin], [xmax, ymin], [xmax, ymax], [xmin, ymax]]\n",
    "            box_2 = [[startX, startY], [endX, startY], [endX, endY], [startX, endY]]\n",
    "\n",
    "\n",
    "            iou=calculate_iou(box_1, box_2)\n",
    "\n",
    "            iou = (round(iou, 2))\n",
    "            ious.append(iou)\n",
    "            cv2.rectangle(image, (int(startX), int(startY)), (int(endX), int(endY)),(0, 0, 255), 2)\n",
    "            cv2.rectangle(image, (xmin, ymin), (xmax, ymax),(0, 255, 0), 2)\n",
    "            if iou != 0:\n",
    "                cv2.rectangle(image, (xmin,ymin+20), (xmin+70, ymin), (0,255,0), -1)\n",
    "                cv2.putText(img=image,text=('IOU: '+str(iou)), org=(xmin+5, ymin+15), fontFace=cv2.FONT_HERSHEY_DUPLEX , fontScale=0.4, color=(0, 0, 0),thickness=1) \n",
    "\n",
    "            #filename = str(i)+'.jpg'\n",
    "\n",
    "            path ='/Users/stefgielen/Documents/school 2021-2022/thesis/Python_Workspace/Resultaten/MaskRCNN/typeset/images'\n",
    "            cv2.imwrite(os.path.join(path , filename), image)\n",
    "\n",
    "\n",
    "\n",
    "\n",
    "            annotation_path =  os.path.sep.join([PRED_PATH,(os.path.splitext(filename)[0]+'.txt')])\n",
    "            file = open(annotation_path, 'w')\n",
    "            file.write( \" \".join(['Picture-frame', str(conf), str(xmin),  str(ymin), str(xmax), str(ymax)]))\n",
    "\n",
    "\n",
    "tijden = tijden/i           \n",
    "print(tijden)\n",
    "\n"
   ]
  },
  {
   "cell_type": "code",
   "execution_count": null,
   "id": "fd6c26e1",
   "metadata": {},
   "outputs": [],
   "source": [
    "print(len(ious))\n",
    "ious = np.array(ious)\n",
    "plt.title(\"Histogram IOU's Mask-RCNN\")\n",
    "plt.xlabel(\"IOU\")\n",
    "plt.ylabel(\"foto's\")\n",
    "plt.hist(x=ious, bins=20, color='#000000',\n",
    "                            alpha=0.7, rwidth=0.8)\n",
    "plt.axvline(0.75, color='r', linestyle='dashed', linewidth=2)\n",
    "plt.text(0.77, 20*0.9, 'IOU=0.75',color='r')\n",
    "plt.ylim(ymin=0, ymax = 25)\n",
    "plt.show() "
   ]
  },
  {
   "cell_type": "code",
   "execution_count": null,
   "id": "f4f1f950",
   "metadata": {},
   "outputs": [],
   "source": []
  }
 ],
 "metadata": {
  "kernelspec": {
   "display_name": "Python [conda env:mProef]",
   "language": "python",
   "name": "conda-env-mProef-py"
  },
  "language_info": {
   "codemirror_mode": {
    "name": "ipython",
    "version": 3
   },
   "file_extension": ".py",
   "mimetype": "text/x-python",
   "name": "python",
   "nbconvert_exporter": "python",
   "pygments_lexer": "ipython3",
   "version": "3.7.11"
  }
 },
 "nbformat": 4,
 "nbformat_minor": 5
}
